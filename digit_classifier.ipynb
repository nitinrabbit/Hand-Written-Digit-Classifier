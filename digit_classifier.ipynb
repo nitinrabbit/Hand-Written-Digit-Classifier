{
 "cells": [
  {
   "cell_type": "markdown",
   "metadata": {},
   "source": [
    "# Load Data and Do Processing\n",
    "- Load data into a Pandas dataframe \n",
    "- Convert data into numoy array using .values\n",
    "- Convert data from float64 to float32 for speed\n",
    "- We reshape the input data from (n_train x 784) to (n_trnainx28x28)\n",
    "- we normalize the pixel color values to interval [0,1]"
   ]
  },
  {
   "cell_type": "code",
   "execution_count": 15,
   "metadata": {
    "collapsed": false
   },
   "outputs": [],
   "source": [
    "import numpy as np\n",
    "import pandas as pd\n",
    "from keras.utils.np_utils import to_categorical\n",
    "from keras import backend as K\n",
    "\n",
    "K.set_image_dim_ordering('th') #input shape (channels, height, width)\n",
    "train_df = pd.read_csv(\"train.csv\")\n",
    "valid_df = pd.read_csv(\"test.csv\")\n",
    "\n",
    "x_train = train_df.drop(['label'], axis = 1).values.astype('float32')\n",
    "Y_train = train_df['label'].values.astype('float32')\n",
    "x_valid = valid_df.values.astype('float32')\n",
    "\n",
    "img_width, img_height = 28, 28\n",
    "\n",
    "n_train = x_train.shape[0]\n",
    "n_valid = x_valid.shape[0]\n",
    "\n",
    "n_classes = 10\n",
    "\n",
    "x_train = x_train.reshape(n_train, img_width, img_height)\n",
    "x_train = x_train/255\n",
    "\n",
    "x_valid = x_valid.reshape(n_valid, img_width, img_height)\n",
    "x_valid = x_valid/255\n",
    "\n"
   ]
  },
  {
   "cell_type": "markdown",
   "metadata": {
    "collapsed": false
   },
   "source": [
    "When modeling multi-class classification problems using neural networks, it is good practice to reshape the output \n",
    "attribute from a vector that contains values for each class value to be a matrix with a boolean for each class value \n",
    "and whether or not a given instance has that class value or not. <https://www.quora.com/What-is-one-hot-encoding-and-when-is-it-used-in-data-science>"
   ]
  },
  {
   "cell_type": "code",
   "execution_count": 10,
   "metadata": {
    "collapsed": false
   },
   "outputs": [
    {
     "name": "stderr",
     "output_type": "stream",
     "text": [
      "/Users/nitinsingh/anaconda/lib/python2.7/site-packages/keras/utils/np_utils.py:21: VisibleDeprecationWarning: using a non-integer number instead of an integer will result in an error in the future\n",
      "  Y = np.zeros((len(y), nb_classes))\n",
      "/Users/nitinsingh/anaconda/lib/python2.7/site-packages/keras/utils/np_utils.py:23: VisibleDeprecationWarning: using a non-integer number instead of an integer will result in an error in the future\n",
      "  Y[i, y[i]] = 1.\n"
     ]
    }
   ],
   "source": [
    "y_train = to_categorical(Y_train)"
   ]
  },
  {
   "cell_type": "code",
   "execution_count": 16,
   "metadata": {
    "collapsed": false
   },
   "outputs": [
    {
     "data": {
      "image/png": "[encoded data removed]",
      "text/plain": [
       "<matplotlib.figure.Figure at 0x118727350>"
      ]
     },
     "metadata": {},
     "output_type": "display_data"
    }
   ],
   "source": [
    "%matplotlib inline\n",
    "from matplotlib import pyplot as plt\n",
    "imgplot = plt.imshow(x_train[9,:,:], cmap = 'gray')"
   ]
  },
  {
   "cell_type": "code",
   "execution_count": null,
   "metadata": {
    "collapsed": true
   },
   "outputs": [],
   "source": []
  }
 ],
 "metadata": {
  "kernelspec": {
   "display_name": "Python 2",
   "language": "python",
   "name": "python2"
  },
  "language_info": {
   "codemirror_mode": {
    "name": "ipython",
    "version": 2
   },
   "file_extension": ".py",
   "mimetype": "text/x-python",
   "name": "python",
   "nbconvert_exporter": "python",
   "pygments_lexer": "ipython2",
   "version": "2.7.11"
  }
 },
 "nbformat": 4,
 "nbformat_minor": 0
}
